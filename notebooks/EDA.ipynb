{
  "cells": [
    {
      "cell_type": "code",
      "execution_count": null,
      "metadata": {},
      "outputs": [],
      "source": [
        "import pandas as pd\n",
        "import numpy as np\n",
        "import seaborn as sns\n",
        "import matplotlib.pyplot as plt\n",
        "\n",
        "csv_path = \"/Users/macm1/Documents/Practice DA/Social Media Data/sustainability_social_media_posts.csv\"\n",
        "df = pd.read_csv(csv_path, parse_dates=[\"post_date\"], infer_datetime_format=True)\n",
        "\n",
        "# Chuẩn hoá số và chỉ số cơ bản\n",
        "for col in [\"engagement_likes\",\"engagement_shares\",\"engagement_comments\",\"user_followers\"]:\n",
        "\tif col in df.columns:\n",
        "\t\tdf[col] = pd.to_numeric(df[col], errors=\"coerce\")\n",
        "\n",
        "df[\"engagement_total\"] = df.get(\"engagement_likes\",0).fillna(0) + df.get(\"engagement_shares\",0).fillna(0) + df.get(\"engagement_comments\",0).fillna(0)\n",
        "df[\"engagement_rate\"] = np.where(df.get(\"user_followers\",0).fillna(0)>0, df[\"engagement_total\"]/df[\"user_followers\"], np.nan)\n",
        "\n",
        "print(\"Hình dạng:\", df.shape)\n",
        "df.head()\n"
      ]
    }
  ],
  "metadata": {
    "language_info": {
      "name": "python"
    }
  },
  "nbformat": 4,
  "nbformat_minor": 2
}
